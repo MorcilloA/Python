{
 "cells": [
  {
   "cell_type": "markdown",
   "id": "continental-child",
   "metadata": {},
   "source": [
    "# Projet Python : Machine Learning"
   ]
  },
  {
   "cell_type": "markdown",
   "id": "typical-applicant",
   "metadata": {},
   "source": [
    "## Le contexte :\n",
    "Vous êtes un data scientist pour un client (fictif ou non) et vous devez présenter une analyse de données complètes, de la spécification des besoins, élaboration d’une problématique pertinente ainsi qu’une mise en oeuvre technique respectant les conditions ci-dessous.\n",
    "\n",
    "## Le livrable :\n",
    "- Jupyter notebook ou une application Streamlit \n",
    "- le travail devra être déposé sur un gist/git (le lien devra être publique et actif jusqu’à la fin de la scolarité de l’étudiant) et devra être envoyé par mail ou messagerie Slack\n",
    "\n",
    "## Contraintes :\n",
    "- Data avec minimum 10 colonnes \n",
    "- Un maximum de commentaires dans le code\n",
    "- Texte type Markdown après chaque graphique/tableau (ex: description textuelle des features après chargement)\n",
    "- Tous les graphiques doivent être lisible (taille du graphique, infos représenté), si diagramme pas lisible, en faire une version filtrée dessous\n",
    "- Exposer concrètement votre problématique / question à définir : quel est le but de votre modèle et à quelle situation métier peut il correspondre ?\n",
    "\n",
    "## Partie 1 : Analyse graphique des données (EDA) :\n",
    "- Diagrammes de répartition des données (type gaussienne sur les données)\n",
    "- Vérification du nombre de données, si plusieurs données sont peu représentés (<5%) alors regrouper dans une seule et même catégorie, 1 pie chart avant/apres\n",
    "- Nettoyage des données manquantes, encodage (OneHot, dictionnaire ou Sklearn Encoder)\n",
    "- Boites à moustache avec données extrêmes\n",
    "- Heatmap + observations sur les corrélations\n",
    "\n",
    "## Partie 2: Model Building :\n",
    "- Choisir 1 algorithmes et faire varier ses paramètres (ex: max_depth, n_estimators,….)\n",
    "- Faire une veille (300 mots minimum) sur votre algorithme et expliquer le choix de vos paramètres \n",
    "- Affichage des metrics classique (precision, r2, confusion matrix, accuracy…)\n",
    "- Sélection du meilleur paramétrage (si pas le temps expliquer votre approche)\n",
    "- Le model est-il en overfitting/underfitting/OK ?\n",
    "\n",
    "## Partie 3: Features Importance :\n",
    "- Affichage sous forme de barplot (si classification sinon afficher les coefficients de votre regression et commentez)\n",
    "- Commentaire pertinents / hypothèse que vous pouvez formuler à partir de votre analyse\n",
    "\n",
    "## Partie 4: Model Réexécution avec les features sélectionnés :\n",
    "- Affichage des metrics standard et commentaire sur la pertinence"
   ]
  },
  {
   "cell_type": "markdown",
   "id": "filled-beverage",
   "metadata": {},
   "source": []
  },
  {
   "cell_type": "markdown",
   "id": "general-replication",
   "metadata": {},
   "source": [
    "## Import"
   ]
  },
  {
   "cell_type": "markdown",
   "id": "unable-demonstration",
   "metadata": {},
   "source": [
    "On commence par importer les librairies qui seront utilisées pendant ce projet"
   ]
  },
  {
   "cell_type": "code",
   "execution_count": 1,
   "id": "smoking-command",
   "metadata": {},
   "outputs": [
    {
     "name": "stdout",
     "output_type": "stream",
     "text": [
      "libs loaded\n"
     ]
    }
   ],
   "source": [
    "## Librairies générales\n",
    "import numpy as np\n",
    "import pandas as pd\n",
    "import matplotlib.pyplot as plt\n",
    "import seaborn as sns\n",
    "\n",
    "## Composants sklearn\n",
    "from sklearn.tree import DecisionTreeRegressor\n",
    "from sklearn.linear_model import LinearRegression\n",
    "from sklearn.preprocessing import LabelEncoder, StandardScaler\n",
    "from sklearn.model_selection import train_test_split, cross_val_score\n",
    "from sklearn.ensemble import RandomForestRegressor\n",
    "from sklearn.metrics import mean_absolute_percentage_error, classification_report, plot_roc_curve\n",
    "\n",
    "print('libs loaded')"
   ]
  },
  {
   "cell_type": "markdown",
   "id": "hollow-merchandise",
   "metadata": {},
   "source": [
    "## Initialisation"
   ]
  },
  {
   "cell_type": "markdown",
   "id": "generous-photograph",
   "metadata": {},
   "source": [
    "### Thème seaborn"
   ]
  },
  {
   "cell_type": "code",
   "execution_count": 2,
   "id": "german-difference",
   "metadata": {},
   "outputs": [],
   "source": [
    "sns.set_theme()"
   ]
  },
  {
   "cell_type": "markdown",
   "id": "rocky-channel",
   "metadata": {},
   "source": [
    "### Le dataset"
   ]
  },
  {
   "cell_type": "code",
   "execution_count": 3,
   "id": "encouraging-frederick",
   "metadata": {
    "tags": []
   },
   "outputs": [
    {
     "data": {
      "text/html": [
       "<div>\n",
       "<style scoped>\n",
       "    .dataframe tbody tr th:only-of-type {\n",
       "        vertical-align: middle;\n",
       "    }\n",
       "\n",
       "    .dataframe tbody tr th {\n",
       "        vertical-align: top;\n",
       "    }\n",
       "\n",
       "    .dataframe thead th {\n",
       "        text-align: right;\n",
       "    }\n",
       "</style>\n",
       "<table border=\"1\" class=\"dataframe\">\n",
       "  <thead>\n",
       "    <tr style=\"text-align: right;\">\n",
       "      <th></th>\n",
       "      <th>school</th>\n",
       "      <th>sex</th>\n",
       "      <th>age</th>\n",
       "      <th>address</th>\n",
       "      <th>famsize</th>\n",
       "      <th>Pstatus</th>\n",
       "      <th>Medu</th>\n",
       "      <th>Fedu</th>\n",
       "      <th>Mjob</th>\n",
       "      <th>Fjob</th>\n",
       "      <th>...</th>\n",
       "      <th>famrel</th>\n",
       "      <th>freetime</th>\n",
       "      <th>goout</th>\n",
       "      <th>Dalc</th>\n",
       "      <th>Walc</th>\n",
       "      <th>health</th>\n",
       "      <th>absences</th>\n",
       "      <th>G1</th>\n",
       "      <th>G2</th>\n",
       "      <th>G3</th>\n",
       "    </tr>\n",
       "  </thead>\n",
       "  <tbody>\n",
       "    <tr>\n",
       "      <th>0</th>\n",
       "      <td>GP</td>\n",
       "      <td>F</td>\n",
       "      <td>18</td>\n",
       "      <td>U</td>\n",
       "      <td>GT3</td>\n",
       "      <td>A</td>\n",
       "      <td>4</td>\n",
       "      <td>4</td>\n",
       "      <td>at_home</td>\n",
       "      <td>teacher</td>\n",
       "      <td>...</td>\n",
       "      <td>4</td>\n",
       "      <td>3</td>\n",
       "      <td>4</td>\n",
       "      <td>1</td>\n",
       "      <td>1</td>\n",
       "      <td>3</td>\n",
       "      <td>4</td>\n",
       "      <td>0</td>\n",
       "      <td>11</td>\n",
       "      <td>11</td>\n",
       "    </tr>\n",
       "    <tr>\n",
       "      <th>1</th>\n",
       "      <td>GP</td>\n",
       "      <td>F</td>\n",
       "      <td>17</td>\n",
       "      <td>U</td>\n",
       "      <td>GT3</td>\n",
       "      <td>T</td>\n",
       "      <td>1</td>\n",
       "      <td>1</td>\n",
       "      <td>at_home</td>\n",
       "      <td>other</td>\n",
       "      <td>...</td>\n",
       "      <td>5</td>\n",
       "      <td>3</td>\n",
       "      <td>3</td>\n",
       "      <td>1</td>\n",
       "      <td>1</td>\n",
       "      <td>3</td>\n",
       "      <td>2</td>\n",
       "      <td>9</td>\n",
       "      <td>11</td>\n",
       "      <td>11</td>\n",
       "    </tr>\n",
       "    <tr>\n",
       "      <th>2</th>\n",
       "      <td>GP</td>\n",
       "      <td>F</td>\n",
       "      <td>15</td>\n",
       "      <td>U</td>\n",
       "      <td>LE3</td>\n",
       "      <td>T</td>\n",
       "      <td>1</td>\n",
       "      <td>1</td>\n",
       "      <td>at_home</td>\n",
       "      <td>other</td>\n",
       "      <td>...</td>\n",
       "      <td>4</td>\n",
       "      <td>3</td>\n",
       "      <td>2</td>\n",
       "      <td>2</td>\n",
       "      <td>3</td>\n",
       "      <td>3</td>\n",
       "      <td>6</td>\n",
       "      <td>12</td>\n",
       "      <td>13</td>\n",
       "      <td>12</td>\n",
       "    </tr>\n",
       "    <tr>\n",
       "      <th>3</th>\n",
       "      <td>GP</td>\n",
       "      <td>F</td>\n",
       "      <td>15</td>\n",
       "      <td>U</td>\n",
       "      <td>GT3</td>\n",
       "      <td>T</td>\n",
       "      <td>4</td>\n",
       "      <td>2</td>\n",
       "      <td>health</td>\n",
       "      <td>services</td>\n",
       "      <td>...</td>\n",
       "      <td>3</td>\n",
       "      <td>2</td>\n",
       "      <td>2</td>\n",
       "      <td>1</td>\n",
       "      <td>1</td>\n",
       "      <td>5</td>\n",
       "      <td>0</td>\n",
       "      <td>14</td>\n",
       "      <td>14</td>\n",
       "      <td>14</td>\n",
       "    </tr>\n",
       "    <tr>\n",
       "      <th>4</th>\n",
       "      <td>GP</td>\n",
       "      <td>F</td>\n",
       "      <td>16</td>\n",
       "      <td>U</td>\n",
       "      <td>GT3</td>\n",
       "      <td>T</td>\n",
       "      <td>3</td>\n",
       "      <td>3</td>\n",
       "      <td>other</td>\n",
       "      <td>other</td>\n",
       "      <td>...</td>\n",
       "      <td>4</td>\n",
       "      <td>3</td>\n",
       "      <td>2</td>\n",
       "      <td>1</td>\n",
       "      <td>2</td>\n",
       "      <td>5</td>\n",
       "      <td>0</td>\n",
       "      <td>11</td>\n",
       "      <td>13</td>\n",
       "      <td>13</td>\n",
       "    </tr>\n",
       "    <tr>\n",
       "      <th>...</th>\n",
       "      <td>...</td>\n",
       "      <td>...</td>\n",
       "      <td>...</td>\n",
       "      <td>...</td>\n",
       "      <td>...</td>\n",
       "      <td>...</td>\n",
       "      <td>...</td>\n",
       "      <td>...</td>\n",
       "      <td>...</td>\n",
       "      <td>...</td>\n",
       "      <td>...</td>\n",
       "      <td>...</td>\n",
       "      <td>...</td>\n",
       "      <td>...</td>\n",
       "      <td>...</td>\n",
       "      <td>...</td>\n",
       "      <td>...</td>\n",
       "      <td>...</td>\n",
       "      <td>...</td>\n",
       "      <td>...</td>\n",
       "      <td>...</td>\n",
       "    </tr>\n",
       "    <tr>\n",
       "      <th>644</th>\n",
       "      <td>MS</td>\n",
       "      <td>F</td>\n",
       "      <td>19</td>\n",
       "      <td>R</td>\n",
       "      <td>GT3</td>\n",
       "      <td>T</td>\n",
       "      <td>2</td>\n",
       "      <td>3</td>\n",
       "      <td>services</td>\n",
       "      <td>other</td>\n",
       "      <td>...</td>\n",
       "      <td>5</td>\n",
       "      <td>4</td>\n",
       "      <td>2</td>\n",
       "      <td>1</td>\n",
       "      <td>2</td>\n",
       "      <td>5</td>\n",
       "      <td>4</td>\n",
       "      <td>10</td>\n",
       "      <td>11</td>\n",
       "      <td>10</td>\n",
       "    </tr>\n",
       "    <tr>\n",
       "      <th>645</th>\n",
       "      <td>MS</td>\n",
       "      <td>F</td>\n",
       "      <td>18</td>\n",
       "      <td>U</td>\n",
       "      <td>LE3</td>\n",
       "      <td>T</td>\n",
       "      <td>3</td>\n",
       "      <td>1</td>\n",
       "      <td>teacher</td>\n",
       "      <td>services</td>\n",
       "      <td>...</td>\n",
       "      <td>4</td>\n",
       "      <td>3</td>\n",
       "      <td>4</td>\n",
       "      <td>1</td>\n",
       "      <td>1</td>\n",
       "      <td>1</td>\n",
       "      <td>4</td>\n",
       "      <td>15</td>\n",
       "      <td>15</td>\n",
       "      <td>16</td>\n",
       "    </tr>\n",
       "    <tr>\n",
       "      <th>646</th>\n",
       "      <td>MS</td>\n",
       "      <td>F</td>\n",
       "      <td>18</td>\n",
       "      <td>U</td>\n",
       "      <td>GT3</td>\n",
       "      <td>T</td>\n",
       "      <td>1</td>\n",
       "      <td>1</td>\n",
       "      <td>other</td>\n",
       "      <td>other</td>\n",
       "      <td>...</td>\n",
       "      <td>1</td>\n",
       "      <td>1</td>\n",
       "      <td>1</td>\n",
       "      <td>1</td>\n",
       "      <td>1</td>\n",
       "      <td>5</td>\n",
       "      <td>6</td>\n",
       "      <td>11</td>\n",
       "      <td>12</td>\n",
       "      <td>9</td>\n",
       "    </tr>\n",
       "    <tr>\n",
       "      <th>647</th>\n",
       "      <td>MS</td>\n",
       "      <td>M</td>\n",
       "      <td>17</td>\n",
       "      <td>U</td>\n",
       "      <td>LE3</td>\n",
       "      <td>T</td>\n",
       "      <td>3</td>\n",
       "      <td>1</td>\n",
       "      <td>services</td>\n",
       "      <td>services</td>\n",
       "      <td>...</td>\n",
       "      <td>2</td>\n",
       "      <td>4</td>\n",
       "      <td>5</td>\n",
       "      <td>3</td>\n",
       "      <td>4</td>\n",
       "      <td>2</td>\n",
       "      <td>6</td>\n",
       "      <td>10</td>\n",
       "      <td>10</td>\n",
       "      <td>10</td>\n",
       "    </tr>\n",
       "    <tr>\n",
       "      <th>648</th>\n",
       "      <td>MS</td>\n",
       "      <td>M</td>\n",
       "      <td>18</td>\n",
       "      <td>R</td>\n",
       "      <td>LE3</td>\n",
       "      <td>T</td>\n",
       "      <td>3</td>\n",
       "      <td>2</td>\n",
       "      <td>services</td>\n",
       "      <td>other</td>\n",
       "      <td>...</td>\n",
       "      <td>4</td>\n",
       "      <td>4</td>\n",
       "      <td>1</td>\n",
       "      <td>3</td>\n",
       "      <td>4</td>\n",
       "      <td>5</td>\n",
       "      <td>4</td>\n",
       "      <td>10</td>\n",
       "      <td>11</td>\n",
       "      <td>11</td>\n",
       "    </tr>\n",
       "  </tbody>\n",
       "</table>\n",
       "<p>649 rows × 33 columns</p>\n",
       "</div>"
      ],
      "text/plain": [
       "    school sex  age address famsize Pstatus  Medu  Fedu      Mjob      Fjob  \\\n",
       "0       GP   F   18       U     GT3       A     4     4   at_home   teacher   \n",
       "1       GP   F   17       U     GT3       T     1     1   at_home     other   \n",
       "2       GP   F   15       U     LE3       T     1     1   at_home     other   \n",
       "3       GP   F   15       U     GT3       T     4     2    health  services   \n",
       "4       GP   F   16       U     GT3       T     3     3     other     other   \n",
       "..     ...  ..  ...     ...     ...     ...   ...   ...       ...       ...   \n",
       "644     MS   F   19       R     GT3       T     2     3  services     other   \n",
       "645     MS   F   18       U     LE3       T     3     1   teacher  services   \n",
       "646     MS   F   18       U     GT3       T     1     1     other     other   \n",
       "647     MS   M   17       U     LE3       T     3     1  services  services   \n",
       "648     MS   M   18       R     LE3       T     3     2  services     other   \n",
       "\n",
       "     ... famrel freetime  goout  Dalc  Walc health absences  G1  G2  G3  \n",
       "0    ...      4        3      4     1     1      3        4   0  11  11  \n",
       "1    ...      5        3      3     1     1      3        2   9  11  11  \n",
       "2    ...      4        3      2     2     3      3        6  12  13  12  \n",
       "3    ...      3        2      2     1     1      5        0  14  14  14  \n",
       "4    ...      4        3      2     1     2      5        0  11  13  13  \n",
       "..   ...    ...      ...    ...   ...   ...    ...      ...  ..  ..  ..  \n",
       "644  ...      5        4      2     1     2      5        4  10  11  10  \n",
       "645  ...      4        3      4     1     1      1        4  15  15  16  \n",
       "646  ...      1        1      1     1     1      5        6  11  12   9  \n",
       "647  ...      2        4      5     3     4      2        6  10  10  10  \n",
       "648  ...      4        4      1     3     4      5        4  10  11  11  \n",
       "\n",
       "[649 rows x 33 columns]"
      ]
     },
     "execution_count": 3,
     "metadata": {},
     "output_type": "execute_result"
    }
   ],
   "source": [
    "ds = pd.read_csv(\"./../data/student-por.csv\")\n",
    "ds"
   ]
  },
  {
   "cell_type": "markdown",
   "id": "prescription-prescription",
   "metadata": {},
   "source": [
    "## Expression du sujet"
   ]
  },
  {
   "cell_type": "markdown",
   "id": "efficient-sapphire",
   "metadata": {},
   "source": [
    "### Description du jeu de données"
   ]
  },
  {
   "cell_type": "markdown",
   "id": "accessible-examination",
   "metadata": {},
   "source": [
    "On observe ici un jeu de données fournissant des informations sur des étudiants comprenant entre autre:\n",
    "- L'école dans laquelle ils sont parmis 2\n",
    "- Le sexe\n",
    "- L'éducation et le travail des parents\n",
    "- Les absences\n",
    "- La note sur 20 par trimestre"
   ]
  },
  {
   "cell_type": "markdown",
   "id": "electrical-engineer",
   "metadata": {},
   "source": [
    "### Problématique"
   ]
  },
  {
   "cell_type": "markdown",
   "id": "mediterranean-granny",
   "metadata": {},
   "source": [
    "#### *Peut-on prédire les notes d'un élèves à partir des informations venant d'un formulaire ?*"
   ]
  },
  {
   "cell_type": "markdown",
   "id": "successful-relief",
   "metadata": {},
   "source": [
    "## Partie 1 : Analyse graphique des données (EDA)"
   ]
  },
  {
   "cell_type": "markdown",
   "id": "conditional-delhi",
   "metadata": {},
   "source": [
    "*Cette partie est déjà traitée dans le projet d'analyse de data visualisation dont la conslusion est qu'il semblerait que plusieurs paramètres affectent la note d'un élève. Il est donc cohérent de maintenant chercher à savoir s'il est possible à partir de ces paramètres de prédire la note de l'élève*"
   ]
  },
  {
   "cell_type": "markdown",
   "id": "dramatic-office",
   "metadata": {},
   "source": [
    "### Nettoyage des données manquantes"
   ]
  },
  {
   "cell_type": "code",
   "execution_count": 4,
   "id": "muslim-capacity",
   "metadata": {},
   "outputs": [
    {
     "name": "stdout",
     "output_type": "stream",
     "text": [
      "<class 'pandas.core.frame.DataFrame'>\n",
      "RangeIndex: 649 entries, 0 to 648\n",
      "Data columns (total 33 columns):\n",
      " #   Column      Non-Null Count  Dtype \n",
      "---  ------      --------------  ----- \n",
      " 0   school      649 non-null    object\n",
      " 1   sex         649 non-null    object\n",
      " 2   age         649 non-null    int64 \n",
      " 3   address     649 non-null    object\n",
      " 4   famsize     649 non-null    object\n",
      " 5   Pstatus     649 non-null    object\n",
      " 6   Medu        649 non-null    int64 \n",
      " 7   Fedu        649 non-null    int64 \n",
      " 8   Mjob        649 non-null    object\n",
      " 9   Fjob        649 non-null    object\n",
      " 10  reason      649 non-null    object\n",
      " 11  guardian    649 non-null    object\n",
      " 12  traveltime  649 non-null    int64 \n",
      " 13  studytime   649 non-null    int64 \n",
      " 14  failures    649 non-null    int64 \n",
      " 15  schoolsup   649 non-null    object\n",
      " 16  famsup      649 non-null    object\n",
      " 17  paid        649 non-null    object\n",
      " 18  activities  649 non-null    object\n",
      " 19  nursery     649 non-null    object\n",
      " 20  higher      649 non-null    object\n",
      " 21  internet    649 non-null    object\n",
      " 22  romantic    649 non-null    object\n",
      " 23  famrel      649 non-null    int64 \n",
      " 24  freetime    649 non-null    int64 \n",
      " 25  goout       649 non-null    int64 \n",
      " 26  Dalc        649 non-null    int64 \n",
      " 27  Walc        649 non-null    int64 \n",
      " 28  health      649 non-null    int64 \n",
      " 29  absences    649 non-null    int64 \n",
      " 30  G1          649 non-null    int64 \n",
      " 31  G2          649 non-null    int64 \n",
      " 32  G3          649 non-null    int64 \n",
      "dtypes: int64(16), object(17)\n",
      "memory usage: 167.4+ KB\n"
     ]
    }
   ],
   "source": [
    "ds.info()"
   ]
  },
  {
   "cell_type": "markdown",
   "id": "front-subject",
   "metadata": {},
   "source": [
    "Toutes les colonnes possèdent le même nombre de lignes. Il ne manque donc pas de données dans le dataset."
   ]
  },
  {
   "cell_type": "markdown",
   "id": "southern-cuisine",
   "metadata": {},
   "source": [
    "### Encodage des données"
   ]
  },
  {
   "cell_type": "markdown",
   "id": "fifty-circus",
   "metadata": {},
   "source": [
    "En observant le résultat du `ds.info()` au-dessus on observe que certaines colonnes sont des *object* et donc des chaînes de caractères. Or, notre algorithme a besoin de recevoir des valeurs de type *int*, *float* ou *boolean*.\n",
    "Nous allons donc devoir encoder ces valeurs afin de les rendre exploitables par notre algorithme. Pour cela nous allons utiliser le `LabelEncoder` de `sklearn` et les tranformer en données utilisables.\n",
    "Les paramètres que nous allons encoder sont tous ceux dont le *dtype* est *object* donc :\n",
    "- school\n",
    "- sex\n",
    "- address\n",
    "- famsize\n",
    "- Pstatus\n",
    "- Mjob\n",
    "- Pjob\n",
    "- reason\n",
    "- guardian\n",
    "- schoolsup\n",
    "- famsup\n",
    "- paid\n",
    "- activities\n",
    "- nursery\n",
    "- higher\n",
    "- internet\n",
    "- romantic"
   ]
  },
  {
   "cell_type": "code",
   "execution_count": 5,
   "id": "split-progressive",
   "metadata": {},
   "outputs": [],
   "source": [
    "le_school = LabelEncoder()\n",
    "ds[\"school\"] = le_school.fit_transform(ds[\"school\"])\n",
    "\n",
    "le_sex = LabelEncoder()\n",
    "ds[\"sex\"] = le_sex.fit_transform(ds[\"sex\"])\n",
    "\n",
    "le_address = LabelEncoder()\n",
    "ds[\"address\"] = le_address.fit_transform(ds[\"address\"])\n",
    "\n",
    "le_famsize = LabelEncoder()\n",
    "ds[\"famsize\"] = le_famsize.fit_transform(ds[\"famsize\"])\n",
    "\n",
    "le_Pstatus = LabelEncoder()\n",
    "ds[\"Pstatus\"] = le_Pstatus.fit_transform(ds[\"Pstatus\"])\n",
    "\n",
    "le_Mjob = LabelEncoder()\n",
    "ds[\"Mjob\"] = le_Mjob.fit_transform(ds[\"Mjob\"])\n",
    "\n",
    "le_Fjob = LabelEncoder()\n",
    "ds[\"Fjob\"] = le_Fjob.fit_transform(ds[\"Fjob\"])\n",
    "\n",
    "le_reason = LabelEncoder()\n",
    "ds[\"reason\"] = le_reason.fit_transform(ds[\"reason\"])\n",
    "\n",
    "le_guardian = LabelEncoder()\n",
    "ds[\"guardian\"] = le_guardian.fit_transform(ds[\"guardian\"])\n",
    "\n",
    "le_schoolsup = LabelEncoder()\n",
    "ds[\"schoolsup\"] = le_schoolsup.fit_transform(ds[\"schoolsup\"])\n",
    "\n",
    "le_famsup = LabelEncoder()\n",
    "ds[\"famsup\"] = le_famsup.fit_transform(ds[\"famsup\"])\n",
    "\n",
    "le_paid = LabelEncoder()\n",
    "ds[\"paid\"] = le_paid.fit_transform(ds[\"paid\"])\n",
    "\n",
    "le_activities = LabelEncoder()\n",
    "ds[\"activities\"] = le_activities.fit_transform(ds[\"activities\"])\n",
    "\n",
    "le_nursery = LabelEncoder()\n",
    "ds[\"nursery\"] = le_nursery.fit_transform(ds[\"nursery\"])\n",
    "\n",
    "le_higher = LabelEncoder()\n",
    "ds[\"higher\"] = le_higher.fit_transform(ds[\"higher\"])\n",
    "\n",
    "le_internet = LabelEncoder()\n",
    "ds[\"internet\"] = le_internet.fit_transform(ds[\"internet\"])\n",
    "\n",
    "le_romantic = LabelEncoder()\n",
    "ds[\"romantic\"] = le_romantic.fit_transform(ds[\"romantic\"])"
   ]
  },
  {
   "cell_type": "code",
   "execution_count": 6,
   "id": "above-exploration",
   "metadata": {},
   "outputs": [
    {
     "name": "stdout",
     "output_type": "stream",
     "text": [
      "<class 'pandas.core.frame.DataFrame'>\n",
      "RangeIndex: 649 entries, 0 to 648\n",
      "Data columns (total 33 columns):\n",
      " #   Column      Non-Null Count  Dtype\n",
      "---  ------      --------------  -----\n",
      " 0   school      649 non-null    int32\n",
      " 1   sex         649 non-null    int32\n",
      " 2   age         649 non-null    int64\n",
      " 3   address     649 non-null    int32\n",
      " 4   famsize     649 non-null    int32\n",
      " 5   Pstatus     649 non-null    int32\n",
      " 6   Medu        649 non-null    int64\n",
      " 7   Fedu        649 non-null    int64\n",
      " 8   Mjob        649 non-null    int32\n",
      " 9   Fjob        649 non-null    int32\n",
      " 10  reason      649 non-null    int32\n",
      " 11  guardian    649 non-null    int32\n",
      " 12  traveltime  649 non-null    int64\n",
      " 13  studytime   649 non-null    int64\n",
      " 14  failures    649 non-null    int64\n",
      " 15  schoolsup   649 non-null    int32\n",
      " 16  famsup      649 non-null    int32\n",
      " 17  paid        649 non-null    int32\n",
      " 18  activities  649 non-null    int32\n",
      " 19  nursery     649 non-null    int32\n",
      " 20  higher      649 non-null    int32\n",
      " 21  internet    649 non-null    int32\n",
      " 22  romantic    649 non-null    int32\n",
      " 23  famrel      649 non-null    int64\n",
      " 24  freetime    649 non-null    int64\n",
      " 25  goout       649 non-null    int64\n",
      " 26  Dalc        649 non-null    int64\n",
      " 27  Walc        649 non-null    int64\n",
      " 28  health      649 non-null    int64\n",
      " 29  absences    649 non-null    int64\n",
      " 30  G1          649 non-null    int64\n",
      " 31  G2          649 non-null    int64\n",
      " 32  G3          649 non-null    int64\n",
      "dtypes: int32(17), int64(16)\n",
      "memory usage: 124.3 KB\n"
     ]
    }
   ],
   "source": [
    "ds.info()"
   ]
  },
  {
   "cell_type": "markdown",
   "id": "naughty-crime",
   "metadata": {},
   "source": [
    "Toutes les données sont maintenant des *int* et peuvent donc être traitées."
   ]
  },
  {
   "cell_type": "markdown",
   "id": "smaller-october",
   "metadata": {},
   "source": [
    "### Préparation des données"
   ]
  },
  {
   "cell_type": "markdown",
   "id": "charitable-weapon",
   "metadata": {},
   "source": [
    "Comme vu dans le projet précédent les notes entre les trimestres semblent fortement similaires. Nous expliquions cela par le fait que l'élève ne change pas d'un trimestre à l'autre. Ainsi, pour ce projet où nous tentons de vérifier la prédictabilité de ces notes, nous en utiliserons la moyenne des 3 trimestres."
   ]
  },
  {
   "cell_type": "code",
   "execution_count": 7,
   "id": "legal-liberia",
   "metadata": {},
   "outputs": [
    {
     "data": {
      "text/html": [
       "<div>\n",
       "<style scoped>\n",
       "    .dataframe tbody tr th:only-of-type {\n",
       "        vertical-align: middle;\n",
       "    }\n",
       "\n",
       "    .dataframe tbody tr th {\n",
       "        vertical-align: top;\n",
       "    }\n",
       "\n",
       "    .dataframe thead th {\n",
       "        text-align: right;\n",
       "    }\n",
       "</style>\n",
       "<table border=\"1\" class=\"dataframe\">\n",
       "  <thead>\n",
       "    <tr style=\"text-align: right;\">\n",
       "      <th></th>\n",
       "      <th>school</th>\n",
       "      <th>sex</th>\n",
       "      <th>age</th>\n",
       "      <th>address</th>\n",
       "      <th>famsize</th>\n",
       "      <th>Pstatus</th>\n",
       "      <th>Medu</th>\n",
       "      <th>Fedu</th>\n",
       "      <th>Mjob</th>\n",
       "      <th>Fjob</th>\n",
       "      <th>...</th>\n",
       "      <th>freetime</th>\n",
       "      <th>goout</th>\n",
       "      <th>Dalc</th>\n",
       "      <th>Walc</th>\n",
       "      <th>health</th>\n",
       "      <th>absences</th>\n",
       "      <th>G1</th>\n",
       "      <th>G2</th>\n",
       "      <th>G3</th>\n",
       "      <th>meanGrade</th>\n",
       "    </tr>\n",
       "  </thead>\n",
       "  <tbody>\n",
       "    <tr>\n",
       "      <th>0</th>\n",
       "      <td>0</td>\n",
       "      <td>0</td>\n",
       "      <td>18</td>\n",
       "      <td>1</td>\n",
       "      <td>0</td>\n",
       "      <td>0</td>\n",
       "      <td>4</td>\n",
       "      <td>4</td>\n",
       "      <td>0</td>\n",
       "      <td>4</td>\n",
       "      <td>...</td>\n",
       "      <td>3</td>\n",
       "      <td>4</td>\n",
       "      <td>1</td>\n",
       "      <td>1</td>\n",
       "      <td>3</td>\n",
       "      <td>4</td>\n",
       "      <td>0</td>\n",
       "      <td>11</td>\n",
       "      <td>11</td>\n",
       "      <td>7.33</td>\n",
       "    </tr>\n",
       "    <tr>\n",
       "      <th>1</th>\n",
       "      <td>0</td>\n",
       "      <td>0</td>\n",
       "      <td>17</td>\n",
       "      <td>1</td>\n",
       "      <td>0</td>\n",
       "      <td>1</td>\n",
       "      <td>1</td>\n",
       "      <td>1</td>\n",
       "      <td>0</td>\n",
       "      <td>2</td>\n",
       "      <td>...</td>\n",
       "      <td>3</td>\n",
       "      <td>3</td>\n",
       "      <td>1</td>\n",
       "      <td>1</td>\n",
       "      <td>3</td>\n",
       "      <td>2</td>\n",
       "      <td>9</td>\n",
       "      <td>11</td>\n",
       "      <td>11</td>\n",
       "      <td>10.33</td>\n",
       "    </tr>\n",
       "    <tr>\n",
       "      <th>2</th>\n",
       "      <td>0</td>\n",
       "      <td>0</td>\n",
       "      <td>15</td>\n",
       "      <td>1</td>\n",
       "      <td>1</td>\n",
       "      <td>1</td>\n",
       "      <td>1</td>\n",
       "      <td>1</td>\n",
       "      <td>0</td>\n",
       "      <td>2</td>\n",
       "      <td>...</td>\n",
       "      <td>3</td>\n",
       "      <td>2</td>\n",
       "      <td>2</td>\n",
       "      <td>3</td>\n",
       "      <td>3</td>\n",
       "      <td>6</td>\n",
       "      <td>12</td>\n",
       "      <td>13</td>\n",
       "      <td>12</td>\n",
       "      <td>12.33</td>\n",
       "    </tr>\n",
       "    <tr>\n",
       "      <th>3</th>\n",
       "      <td>0</td>\n",
       "      <td>0</td>\n",
       "      <td>15</td>\n",
       "      <td>1</td>\n",
       "      <td>0</td>\n",
       "      <td>1</td>\n",
       "      <td>4</td>\n",
       "      <td>2</td>\n",
       "      <td>1</td>\n",
       "      <td>3</td>\n",
       "      <td>...</td>\n",
       "      <td>2</td>\n",
       "      <td>2</td>\n",
       "      <td>1</td>\n",
       "      <td>1</td>\n",
       "      <td>5</td>\n",
       "      <td>0</td>\n",
       "      <td>14</td>\n",
       "      <td>14</td>\n",
       "      <td>14</td>\n",
       "      <td>14.00</td>\n",
       "    </tr>\n",
       "    <tr>\n",
       "      <th>4</th>\n",
       "      <td>0</td>\n",
       "      <td>0</td>\n",
       "      <td>16</td>\n",
       "      <td>1</td>\n",
       "      <td>0</td>\n",
       "      <td>1</td>\n",
       "      <td>3</td>\n",
       "      <td>3</td>\n",
       "      <td>2</td>\n",
       "      <td>2</td>\n",
       "      <td>...</td>\n",
       "      <td>3</td>\n",
       "      <td>2</td>\n",
       "      <td>1</td>\n",
       "      <td>2</td>\n",
       "      <td>5</td>\n",
       "      <td>0</td>\n",
       "      <td>11</td>\n",
       "      <td>13</td>\n",
       "      <td>13</td>\n",
       "      <td>12.33</td>\n",
       "    </tr>\n",
       "    <tr>\n",
       "      <th>...</th>\n",
       "      <td>...</td>\n",
       "      <td>...</td>\n",
       "      <td>...</td>\n",
       "      <td>...</td>\n",
       "      <td>...</td>\n",
       "      <td>...</td>\n",
       "      <td>...</td>\n",
       "      <td>...</td>\n",
       "      <td>...</td>\n",
       "      <td>...</td>\n",
       "      <td>...</td>\n",
       "      <td>...</td>\n",
       "      <td>...</td>\n",
       "      <td>...</td>\n",
       "      <td>...</td>\n",
       "      <td>...</td>\n",
       "      <td>...</td>\n",
       "      <td>...</td>\n",
       "      <td>...</td>\n",
       "      <td>...</td>\n",
       "      <td>...</td>\n",
       "    </tr>\n",
       "    <tr>\n",
       "      <th>644</th>\n",
       "      <td>1</td>\n",
       "      <td>0</td>\n",
       "      <td>19</td>\n",
       "      <td>0</td>\n",
       "      <td>0</td>\n",
       "      <td>1</td>\n",
       "      <td>2</td>\n",
       "      <td>3</td>\n",
       "      <td>3</td>\n",
       "      <td>2</td>\n",
       "      <td>...</td>\n",
       "      <td>4</td>\n",
       "      <td>2</td>\n",
       "      <td>1</td>\n",
       "      <td>2</td>\n",
       "      <td>5</td>\n",
       "      <td>4</td>\n",
       "      <td>10</td>\n",
       "      <td>11</td>\n",
       "      <td>10</td>\n",
       "      <td>10.33</td>\n",
       "    </tr>\n",
       "    <tr>\n",
       "      <th>645</th>\n",
       "      <td>1</td>\n",
       "      <td>0</td>\n",
       "      <td>18</td>\n",
       "      <td>1</td>\n",
       "      <td>1</td>\n",
       "      <td>1</td>\n",
       "      <td>3</td>\n",
       "      <td>1</td>\n",
       "      <td>4</td>\n",
       "      <td>3</td>\n",
       "      <td>...</td>\n",
       "      <td>3</td>\n",
       "      <td>4</td>\n",
       "      <td>1</td>\n",
       "      <td>1</td>\n",
       "      <td>1</td>\n",
       "      <td>4</td>\n",
       "      <td>15</td>\n",
       "      <td>15</td>\n",
       "      <td>16</td>\n",
       "      <td>15.33</td>\n",
       "    </tr>\n",
       "    <tr>\n",
       "      <th>646</th>\n",
       "      <td>1</td>\n",
       "      <td>0</td>\n",
       "      <td>18</td>\n",
       "      <td>1</td>\n",
       "      <td>0</td>\n",
       "      <td>1</td>\n",
       "      <td>1</td>\n",
       "      <td>1</td>\n",
       "      <td>2</td>\n",
       "      <td>2</td>\n",
       "      <td>...</td>\n",
       "      <td>1</td>\n",
       "      <td>1</td>\n",
       "      <td>1</td>\n",
       "      <td>1</td>\n",
       "      <td>5</td>\n",
       "      <td>6</td>\n",
       "      <td>11</td>\n",
       "      <td>12</td>\n",
       "      <td>9</td>\n",
       "      <td>10.67</td>\n",
       "    </tr>\n",
       "    <tr>\n",
       "      <th>647</th>\n",
       "      <td>1</td>\n",
       "      <td>1</td>\n",
       "      <td>17</td>\n",
       "      <td>1</td>\n",
       "      <td>1</td>\n",
       "      <td>1</td>\n",
       "      <td>3</td>\n",
       "      <td>1</td>\n",
       "      <td>3</td>\n",
       "      <td>3</td>\n",
       "      <td>...</td>\n",
       "      <td>4</td>\n",
       "      <td>5</td>\n",
       "      <td>3</td>\n",
       "      <td>4</td>\n",
       "      <td>2</td>\n",
       "      <td>6</td>\n",
       "      <td>10</td>\n",
       "      <td>10</td>\n",
       "      <td>10</td>\n",
       "      <td>10.00</td>\n",
       "    </tr>\n",
       "    <tr>\n",
       "      <th>648</th>\n",
       "      <td>1</td>\n",
       "      <td>1</td>\n",
       "      <td>18</td>\n",
       "      <td>0</td>\n",
       "      <td>1</td>\n",
       "      <td>1</td>\n",
       "      <td>3</td>\n",
       "      <td>2</td>\n",
       "      <td>3</td>\n",
       "      <td>2</td>\n",
       "      <td>...</td>\n",
       "      <td>4</td>\n",
       "      <td>1</td>\n",
       "      <td>3</td>\n",
       "      <td>4</td>\n",
       "      <td>5</td>\n",
       "      <td>4</td>\n",
       "      <td>10</td>\n",
       "      <td>11</td>\n",
       "      <td>11</td>\n",
       "      <td>10.67</td>\n",
       "    </tr>\n",
       "  </tbody>\n",
       "</table>\n",
       "<p>649 rows × 34 columns</p>\n",
       "</div>"
      ],
      "text/plain": [
       "     school  sex  age  address  famsize  Pstatus  Medu  Fedu  Mjob  Fjob  ...  \\\n",
       "0         0    0   18        1        0        0     4     4     0     4  ...   \n",
       "1         0    0   17        1        0        1     1     1     0     2  ...   \n",
       "2         0    0   15        1        1        1     1     1     0     2  ...   \n",
       "3         0    0   15        1        0        1     4     2     1     3  ...   \n",
       "4         0    0   16        1        0        1     3     3     2     2  ...   \n",
       "..      ...  ...  ...      ...      ...      ...   ...   ...   ...   ...  ...   \n",
       "644       1    0   19        0        0        1     2     3     3     2  ...   \n",
       "645       1    0   18        1        1        1     3     1     4     3  ...   \n",
       "646       1    0   18        1        0        1     1     1     2     2  ...   \n",
       "647       1    1   17        1        1        1     3     1     3     3  ...   \n",
       "648       1    1   18        0        1        1     3     2     3     2  ...   \n",
       "\n",
       "     freetime  goout  Dalc  Walc  health  absences  G1  G2  G3  meanGrade  \n",
       "0           3      4     1     1       3         4   0  11  11       7.33  \n",
       "1           3      3     1     1       3         2   9  11  11      10.33  \n",
       "2           3      2     2     3       3         6  12  13  12      12.33  \n",
       "3           2      2     1     1       5         0  14  14  14      14.00  \n",
       "4           3      2     1     2       5         0  11  13  13      12.33  \n",
       "..        ...    ...   ...   ...     ...       ...  ..  ..  ..        ...  \n",
       "644         4      2     1     2       5         4  10  11  10      10.33  \n",
       "645         3      4     1     1       1         4  15  15  16      15.33  \n",
       "646         1      1     1     1       5         6  11  12   9      10.67  \n",
       "647         4      5     3     4       2         6  10  10  10      10.00  \n",
       "648         4      1     3     4       5         4  10  11  11      10.67  \n",
       "\n",
       "[649 rows x 34 columns]"
      ]
     },
     "execution_count": 7,
     "metadata": {},
     "output_type": "execute_result"
    }
   ],
   "source": [
    "ds[\"meanGrade\"] = round((ds[\"G1\"] + ds[\"G2\"] + ds[\"G3\"]) / 3, 2)\n",
    "ds"
   ]
  },
  {
   "cell_type": "markdown",
   "id": "casual-marsh",
   "metadata": {},
   "source": [
    "Nous allons maintenant préparer la liste des colonnes qui seront conservées pour la prédiction"
   ]
  },
  {
   "cell_type": "code",
   "execution_count": 8,
   "id": "mounted-forth",
   "metadata": {},
   "outputs": [],
   "source": [
    "allColumns = [\"school\", \"sex\", \"age\", \"address\", \"famsize\", \"Pstatus\", \"Medu\", \"Fedu\", \"Mjob\", \"Fjob\", \"reason\", \"guardian\", \"traveltime\", \"studytime\", \n",
    "           \"failures\", \"schoolsup\", \"famsup\", \"paid\", \"activities\", \"nursery\", \"higher\", \"internet\", \"romantic\", \"famrel\", \"freetime\", \"goout\", \"Dalc\", \"Walc\", \"health\", \"absences\", \"meanGrade\"]\n",
    "sampleColums = [\"Medu\", \"Fedu\", \"Mjob\", \"Fjob\", \"failures\", \"absences\", \"meanGrade\"]"
   ]
  },
  {
   "cell_type": "markdown",
   "id": "bibliographic-november",
   "metadata": {},
   "source": [
    "## Partie 2.a : Model Building (LinearRegression)"
   ]
  },
  {
   "cell_type": "markdown",
   "id": "middle-china",
   "metadata": {},
   "source": [
    "### Veille"
   ]
  },
  {
   "cell_type": "markdown",
   "id": "provincial-inventory",
   "metadata": {},
   "source": [
    "*Pour consulter la veille allez lire [ce fichier](https://github.com/MorcilloA/Rendus_Python/tree/master/ML/projet/veille_LinearRegression.pdf)*"
   ]
  },
  {
   "cell_type": "markdown",
   "id": "atlantic-injection",
   "metadata": {},
   "source": [
    "### Application de l'algorithme"
   ]
  },
  {
   "cell_type": "markdown",
   "id": "necessary-quest",
   "metadata": {},
   "source": [
    "Ici nous commençons par remplir deux variables qui seront respectivement nos données à corréler et la cible."
   ]
  },
  {
   "cell_type": "code",
   "execution_count": 9,
   "id": "responsible-creation",
   "metadata": {},
   "outputs": [],
   "source": [
    "X = ds[allColumns[:-1]]\n",
    "y = ds[\"meanGrade\"]"
   ]
  },
  {
   "cell_type": "markdown",
   "id": "viral-ensemble",
   "metadata": {},
   "source": [
    "Ensuite on resépare les deux éléments précédents en deux à nouveau. Une partie servant d'entraînement et une autre de test pour vérifier si notre algorithme a suffisamment appris."
   ]
  },
  {
   "cell_type": "code",
   "execution_count": 10,
   "id": "hungarian-triangle",
   "metadata": {},
   "outputs": [
    {
     "data": {
      "text/plain": [
       "'train : (519, 30) | test : (130, 30)'"
      ]
     },
     "execution_count": 10,
     "metadata": {},
     "output_type": "execute_result"
    }
   ],
   "source": [
    "X_train, X_test, y_train, y_test = train_test_split(X, y, test_size=0.2)\n",
    "\"train : {} | test : {}\".format(X_train.shape, X_test.shape)"
   ]
  },
  {
   "cell_type": "markdown",
   "id": "incomplete-desire",
   "metadata": {},
   "source": [
    "On instancie le Régresseur linéaire, puis on l'entraînement sur la portion d'entraînement du jeu de données. Cela signifie qu'on lui donne à la fois les données ET la cible afin qu'il trouve les liens existants supposément entre les deux."
   ]
  },
  {
   "cell_type": "code",
   "execution_count": 11,
   "id": "competent-circular",
   "metadata": {},
   "outputs": [],
   "source": [
    "linReg = LinearRegression()"
   ]
  },
  {
   "cell_type": "code",
   "execution_count": 12,
   "id": "australian-being",
   "metadata": {},
   "outputs": [
    {
     "data": {
      "text/plain": [
       "LinearRegression()"
      ]
     },
     "execution_count": 12,
     "metadata": {},
     "output_type": "execute_result"
    }
   ],
   "source": [
    "linReg.fit(X_train, y_train)"
   ]
  },
  {
   "cell_type": "code",
   "execution_count": 13,
   "id": "soviet-cement",
   "metadata": {},
   "outputs": [
    {
     "data": {
      "text/plain": [
       "array([-1.11712839, -0.39492934,  0.19036792,  0.237018  ,  0.42615552,\n",
       "        0.34837419,  0.14973942,  0.16536508,  0.01895003,  0.095457  ,\n",
       "        0.11940216, -0.12831441,  0.0023071 ,  0.24895525, -1.39400158,\n",
       "       -1.16242231,  0.10179518, -0.51392791,  0.43334452, -0.33710111,\n",
       "        1.79070924,  0.37132874, -0.36003235,  0.069047  ,  0.00590563,\n",
       "       -0.10814781, -0.19144364, -0.15676509, -0.130311  , -0.05381632])"
      ]
     },
     "execution_count": 13,
     "metadata": {},
     "output_type": "execute_result"
    }
   ],
   "source": [
    "linReg.coef_"
   ]
  },
  {
   "cell_type": "markdown",
   "id": "secret-stuart",
   "metadata": {},
   "source": [
    "On peut remarquer qu'utiliser toutes les colonnes de notre jeu de données est peut-être trop. Utilisons une partie de ces colonnes en nous basant sur l'analyse de données réalisée préalablement et faisant remonter certaines corrélations potentielles entre les notes et les absences, l'éducation des parents et le redoublement"
   ]
  },
  {
   "cell_type": "code",
   "execution_count": 14,
   "id": "asian-indianapolis",
   "metadata": {},
   "outputs": [
    {
     "data": {
      "text/plain": [
       "'train : (519, 6) | test : (130, 6)'"
      ]
     },
     "execution_count": 14,
     "metadata": {},
     "output_type": "execute_result"
    }
   ],
   "source": [
    "X = ds[sampleColums[:-1]]\n",
    "y = ds[\"meanGrade\"]\n",
    "X_train, X_test, y_train, y_test = train_test_split(X, y, test_size=0.2)\n",
    "\"train : {} | test : {}\".format(X_train.shape, X_test.shape)"
   ]
  },
  {
   "cell_type": "code",
   "execution_count": 15,
   "id": "actual-footage",
   "metadata": {},
   "outputs": [
    {
     "data": {
      "text/plain": [
       "array([ 0.30175242,  0.23179844,  0.09850823,  0.02239309, -1.76867722,\n",
       "       -0.04465676])"
      ]
     },
     "execution_count": 15,
     "metadata": {},
     "output_type": "execute_result"
    }
   ],
   "source": [
    "linReg = LinearRegression()\n",
    "linReg.fit(X_train, y_train)\n",
    "linReg.coef_"
   ]
  },
  {
   "cell_type": "markdown",
   "id": "chicken-breakdown",
   "metadata": {},
   "source": [
    "Selon ces données, il semble que les éléments qui vont le plus impacter la prédiction de l'algorithme soient l'éducation de la mère qui plus elle est haute plus la prédiction sera haute et les absences qui à l'inverse auraient tendance à faire baisser la prédiction lorsque leur nombre augmente."
   ]
  },
  {
   "cell_type": "code",
   "execution_count": 16,
   "id": "public-tactics",
   "metadata": {},
   "outputs": [
    {
     "data": {
      "text/plain": [
       "10.645448779168285"
      ]
     },
     "execution_count": 16,
     "metadata": {},
     "output_type": "execute_result"
    }
   ],
   "source": [
    "linReg.intercept_"
   ]
  },
  {
   "cell_type": "code",
   "execution_count": 17,
   "id": "advisory-brazilian",
   "metadata": {},
   "outputs": [
    {
     "data": {
      "text/plain": [
       "0.2122125580834897"
      ]
     },
     "execution_count": 17,
     "metadata": {},
     "output_type": "execute_result"
    }
   ],
   "source": [
    "linReg.score(X_train, y_train)"
   ]
  },
  {
   "cell_type": "code",
   "execution_count": 18,
   "id": "burning-belfast",
   "metadata": {},
   "outputs": [],
   "source": [
    "y_pred = linReg.predict(X_test)"
   ]
  },
  {
   "cell_type": "code",
   "execution_count": 19,
   "id": "expensive-technique",
   "metadata": {},
   "outputs": [
    {
     "data": {
      "text/plain": [
       "0.21684454008025134"
      ]
     },
     "execution_count": 19,
     "metadata": {},
     "output_type": "execute_result"
    }
   ],
   "source": [
    "linReg.score(X_test, y_test)"
   ]
  },
  {
   "cell_type": "code",
   "execution_count": 20,
   "id": "extreme-instrumentation",
   "metadata": {},
   "outputs": [
    {
     "data": {
      "image/png": "[encoded data removed]",
      "text/plain": [
       "<Figure size 720x720 with 1 Axes>"
      ]
     },
     "metadata": {},
     "output_type": "display_data"
    }
   ],
   "source": [
    "fig, ax = plt.subplots(figsize=(10,10))\n",
    "sns.kdeplot(y_test, label=\"Valeur réelle\")\n",
    "sns.kdeplot(y_pred, label=\"Prédiction\")\n",
    "plt.legend()\n",
    "plt.show()"
   ]
  },
  {
   "cell_type": "markdown",
   "id": "gothic-globe",
   "metadata": {},
   "source": [
    "Ce schéma compare le taux d'apparition réelle d'une moyenne (en bleu) et le taux d'apparition de ces mêmes moyennes dans les prédictions (en rouge). En observant le schéma il semble que notre algotihme manque de précision même si on observe un suivi de la courbe. Se sont les valeurs valeurs plus \"extrêmes\" (moins de 5 ou plus de 15) qui ont plus de mal à être définies. Cela sonne comme une situation d'underfitting. Pour résoudre celle-ci, il faudrait peut-être cumuler les données de plusieurs années pour permettre à l'algorithme de s'entraîner suffisamment."
   ]
  },
  {
   "cell_type": "markdown",
   "id": "surrounded-complex",
   "metadata": {},
   "source": [
    "## Partie 2.b : Model Building (RandomForestRegressor)"
   ]
  },
  {
   "cell_type": "markdown",
   "id": "historic-scenario",
   "metadata": {},
   "source": [
    "### Veille"
   ]
  },
  {
   "cell_type": "markdown",
   "id": "direct-banks",
   "metadata": {},
   "source": [
    "*Pour consulter la veille allez lire [ce fichier](https://github.com/MorcilloA/Rendus_Python/tree/master/ML/projet/veille_RandomForestRegressor.pdf)*"
   ]
  },
  {
   "cell_type": "markdown",
   "id": "dedicated-boulder",
   "metadata": {},
   "source": [
    "### Application de l'algorithme"
   ]
  },
  {
   "cell_type": "markdown",
   "id": "adolescent-assistant",
   "metadata": {},
   "source": [
    "Nous allons commencer par réinitialiser nos variables X_train, X_test, y_train et y_test mais cette fois avec toutes les colonnes."
   ]
  },
  {
   "cell_type": "code",
   "execution_count": 27,
   "id": "suspected-nepal",
   "metadata": {},
   "outputs": [
    {
     "data": {
      "text/plain": [
       "'train : (519, 30) | test : (130, 30)'"
      ]
     },
     "execution_count": 27,
     "metadata": {},
     "output_type": "execute_result"
    }
   ],
   "source": [
    "X = ds[allColumns[:-1]]\n",
    "y = ds[\"meanGrade\"]\n",
    "X_train, X_test, y_train, y_test = train_test_split(X, y, test_size=0.2)\n",
    "\"train : {} | test : {}\".format(X_train.shape, X_test.shape)"
   ]
  },
  {
   "cell_type": "markdown",
   "id": "solid-magazine",
   "metadata": {},
   "source": [
    "Ensuite, on initialise la forêt d'arbres de régression et on l'entraîne avec le jeu de données d'entraînement."
   ]
  },
  {
   "cell_type": "code",
   "execution_count": 28,
   "id": "accessible-production",
   "metadata": {},
   "outputs": [
    {
     "data": {
      "text/plain": [
       "RandomForestRegressor(max_depth=5)"
      ]
     },
     "execution_count": 28,
     "metadata": {},
     "output_type": "execute_result"
    }
   ],
   "source": [
    "rfr = RandomForestRegressor(n_estimators=100, max_depth=5)\n",
    "rfr.fit(X_train, y_train)"
   ]
  },
  {
   "cell_type": "markdown",
   "id": "reverse-playing",
   "metadata": {},
   "source": [
    "Maintenant qu'il est entraîné nous allons lancer notre algorithme"
   ]
  },
  {
   "cell_type": "code",
   "execution_count": 29,
   "id": "mechanical-spoke",
   "metadata": {},
   "outputs": [],
   "source": [
    "y_pred = rfr.predict(X_test)"
   ]
  },
  {
   "cell_type": "markdown",
   "id": "australian-treasury",
   "metadata": {},
   "source": [
    "Nous allons maintenant calculer la précision des résultats de notre algorithme"
   ]
  },
  {
   "cell_type": "code",
   "execution_count": 30,
   "id": "ignored-waters",
   "metadata": {},
   "outputs": [
    {
     "data": {
      "text/plain": [
       "'accuracy 20.599999999999998%'"
      ]
     },
     "execution_count": 30,
     "metadata": {},
     "output_type": "execute_result"
    }
   ],
   "source": [
    "accuracy = mean_absolute_percentage_error(y_test, y_pred)\n",
    "# accuracy\n",
    "\"accuracy {}%\".format(accuracy.round(4)*100)"
   ]
  },
  {
   "cell_type": "markdown",
   "id": "regional-atlanta",
   "metadata": {},
   "source": [
    "La précision ressortant de l'algorithme semble être d'environ 20%. L'apparence faible de cette dernière s'explique par le fait que la données recherchée est très précise. En effet, on recherche une"
   ]
  },
  {
   "cell_type": "code",
   "execution_count": 31,
   "id": "loose-european",
   "metadata": {},
   "outputs": [
    {
     "data": {
      "text/plain": [
       "failures      0.340974\n",
       "higher        0.077730\n",
       "school        0.055216\n",
       "Dalc          0.054860\n",
       "Medu          0.047082\n",
       "absences      0.039394\n",
       "studytime     0.038030\n",
       "Walc          0.032542\n",
       "Fedu          0.028970\n",
       "goout         0.028645\n",
       "reason        0.026529\n",
       "address       0.024853\n",
       "age           0.024268\n",
       "schoolsup     0.023637\n",
       "Fjob          0.020385\n",
       "Mjob          0.019574\n",
       "freetime      0.018204\n",
       "health        0.013099\n",
       "sex           0.012447\n",
       "internet      0.010509\n",
       "famrel        0.009886\n",
       "romantic      0.009485\n",
       "famsup        0.008872\n",
       "traveltime    0.007930\n",
       "Pstatus       0.006725\n",
       "famsize       0.006154\n",
       "activities    0.005833\n",
       "guardian      0.004103\n",
       "nursery       0.003447\n",
       "paid          0.000616\n",
       "dtype: float64"
      ]
     },
     "execution_count": 31,
     "metadata": {},
     "output_type": "execute_result"
    }
   ],
   "source": [
    "feature_imp = pd.Series(rfr.feature_importances_,index=allColumns[:-1]).sort_values(ascending=False)\n",
    "feature_imp"
   ]
  },
  {
   "cell_type": "code",
   "execution_count": 32,
   "id": "understanding-snowboard",
   "metadata": {},
   "outputs": [
    {
     "data": {
      "image/png": "[encoded data removed]",
      "text/plain": [
       "<Figure size 720x576 with 1 Axes>"
      ]
     },
     "metadata": {},
     "output_type": "display_data"
    }
   ],
   "source": [
    "fig, ax = plt.subplots(figsize=(10,8))\n",
    "ax = sns.barplot(x=feature_imp.values*100, y=feature_imp.keys())"
   ]
  },
  {
   "cell_type": "markdown",
   "id": "recorded-syntax",
   "metadata": {},
   "source": [
    "Comme on peut le voir la feature la plus importante, de loin, est le fait que l'élève ait déjà raté une année scolaire. Ensuite apparaissent avec moins de différence avec les autres la volonté de faire des études supérieurs, l'école choisie et la consommation d'alcool en semaine."
   ]
  },
  {
   "cell_type": "markdown",
   "id": "confidential-willow",
   "metadata": {},
   "source": [
    "## Conclusion"
   ]
  },
  {
   "cell_type": "markdown",
   "id": "driving-trash",
   "metadata": {},
   "source": [
    "Pour conclure cette étude, il semble qu'il serait possible de mettre au point un algorithme pouvant se rapprocher de la prédiction de la moyenne d'un élève à condition de pouvoir mieux entraîner l'algorithme. Evidemment dans tous les cas cette prédiction resterait une approximation et il semble plutôt qu'il s'agisse de donner un ordre d'idée de la note.\n",
    "\n",
    "D'autres questions peuvent donc apparaître ici aussi :\n",
    "- Quelle quantité de données faudrait-il réunir pour perfectionner l'algorithme ?\n",
    "- A partir de quelle précision pourions-nous estimer que l'algorithme est satisfaisant ?"
   ]
  },
  {
   "cell_type": "code",
   "execution_count": null,
   "id": "accepting-liberia",
   "metadata": {},
   "outputs": [],
   "source": []
  }
 ],
 "metadata": {
  "kernelspec": {
   "display_name": "Python 3",
   "language": "python",
   "name": "python3"
  },
  "language_info": {
   "codemirror_mode": {
    "name": "ipython",
    "version": 3
   },
   "file_extension": ".py",
   "mimetype": "text/x-python",
   "name": "python",
   "nbconvert_exporter": "python",
   "pygments_lexer": "ipython3",
   "version": "3.8.3"
  }
 },
 "nbformat": 4,
 "nbformat_minor": 5
}
