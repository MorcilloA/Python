{
 "cells": [
  {
   "cell_type": "markdown",
   "metadata": {},
   "source": [
    "# Target somme \n",
    "\n",
    "Écrivez une fonction qui prend dans un tableau non vide d'entiers distincts et un entier représentant une somme cible. Si deux nombres du tableau d'entrée correspondent à la somme cible, la fonction doit les renvoyer dans un tableau, dans n'importe quel ordre. Si deux nombres ne correspondent pas à la somme cible, la fonction doit renvoyer un tableau vide.\n",
    "\n",
    "Notez que la somme cible doit être obtenue en additionnant deux entiers différents dans le tableau; vous ne pouvez pas ajouter un seul entier à lui-même pour obtenir la somme cible.\n",
    "\n",
    "Input exemple : \n",
    "\n",
    "```python\n",
    "array = [3, 5, -4, 8, 11, 1, -1, 6] \n",
    "targetSum = 10 \n",
    "```\n",
    "\n",
    "Output \n",
    "```python\n",
    "[-1, 11] # les nombres peuvent être dans l'ordre inverse\n",
    "```\n"
   ]
  },
  {
   "cell_type": "code",
   "execution_count": 16,
   "metadata": {},
   "outputs": [
    {
     "name": "stdout",
     "output_type": "stream",
     "text": [
      "[11, -1]\n",
      "Wall time: 986 µs\n"
     ]
    }
   ],
   "source": [
    "def isReachable(array, targetSum):\n",
    "    dictionnary = dict()\n",
    "    for i in array:\n",
    "        if dictionnary.get(i):\n",
    "            return [dictionnary.get(i), i]\n",
    "        else:\n",
    "            dictionnary[targetSum - i] = i\n",
    "    return \"Les valeurs du tableau ne permettent pas d'atteindre la somme cible\"\n",
    "    \n",
    "print(isReachable([3, 5, -4, 8, 11, 1, -1, 6], 10))"
   ]
  },
  {
   "cell_type": "markdown",
   "metadata": {},
   "source": [
    "##### Complexité temporelle = O(n) // On parcours une seule fois le tableau de n valeurs\n",
    "##### Complexité spatiale = O(n) // On instancie un dictionnaire de taille maximale n"
   ]
  },
  {
   "cell_type": "markdown",
   "metadata": {},
   "source": [
    "# La distance de Levenshtein\n",
    "\n",
    "Ecrivez une fonction qui prend en deux chaînes et retourne le nombre minimum d'opérations d'édition qui doivent être effectuées sur la première chaîne pour obtenir la deuxième chaîne.\n",
    "\n",
    "Il existe trois opérations d'édition: insertion d'un caractère, suppression d'un caractère et substitution d'un caractère par un autre.\n",
    "\n",
    "Elle est tres utilisé en bio informatique notamment pour l'analyse ADN. \n",
    "\n",
    "Input exemple : \n",
    "\n",
    "```python\n",
    "str1 = \"abc\" \n",
    "str2 = \"yabd\"\n",
    "```\n",
    "\n",
    "Output \n",
    "\n",
    "```python\n",
    "2 #insert \"y\"; substitute \"c\" for \"d\"\n",
    "```"
   ]
  },
  {
   "cell_type": "code",
   "execution_count": 85,
   "metadata": {},
   "outputs": [
    {
     "name": "stdout",
     "output_type": "stream",
     "text": [
      "[0, 0, 0, 0]\n",
      "[0, 0, 0, 0]\n",
      "[0, 0, 0, 0]\n",
      "390.5000012309756 µs\n"
     ]
    }
   ],
   "source": [
    "from time import perf_counter\n",
    "timer1 = perf_counter()\n",
    "def LevenshteinDistance(str1, str2):\n",
    "    \n",
    "#     d = [[i for i in range(len(str2))] for j in range(len(str1))]\n",
    "    d = []\n",
    "    for i in range(0, len(str1)+1, 1):\n",
    "        line = []\n",
    "        for j in range (0, len(str2)+1, 1):\n",
    "            if i == 0 and j == 0:\n",
    "                line.append(0)\n",
    "            elif j == 0:\n",
    "                line.append(i)\n",
    "            elif i == 0:\n",
    "                line.append(j)\n",
    "            else:\n",
    "#                 print(i, j, d[i-1][j])\n",
    "#                 line.append(min(\n",
    "#                     d[i-1][j],\n",
    "#                     d[i][j-1],\n",
    "#                     d[i-1][j-1]\n",
    "#                 )+1)\n",
    "                line.append(0)\n",
    "        d.append(line)\n",
    "        \n",
    "    for i in range(1, len(str1)+1, 1):\n",
    "        for j in range (1, len(str2)+1, 1):\n",
    "            d[i][j] = min(\n",
    "                    d[i-1][j],\n",
    "                    d[i][j-1],\n",
    "                    d[i-1][j-1]\n",
    "                )+1\n",
    "            else:\n",
    "#                 print(i, j, d[i-1][j])\n",
    "#                 line.append(min(\n",
    "#                     d[i-1][j],\n",
    "#                     d[i][j-1],\n",
    "#                     d[i-1][j-1]\n",
    "#                 )+1)\n",
    "                line.append(0)\n",
    "        d.append(line)\n",
    "                \n",
    "    for value in d:\n",
    "        print(value)\n",
    "\n",
    "LevenshteinDistance(\"abc\", \"yabd\")\n",
    "\n",
    "\n",
    "timer2 = perf_counter()\n",
    "print((timer2 - timer1) * 1000000, \"µs\")"
   ]
  },
  {
   "cell_type": "code",
   "execution_count": 64,
   "metadata": {},
   "outputs": [
    {
     "name": "stdout",
     "output_type": "stream",
     "text": [
      "[0, 1, 2, 3, 4, 5]\n",
      "[1, 0, 0, 0, 0, 0]\n",
      "[2, 0, 0, 0, 0, 0]\n",
      "[3, 0, 0, 0, 0, 0]\n",
      "[4, 0, 0, 0, 0, 0]\n",
      "[5, 0, 0, 0, 0, 0]\n",
      "0.0005138999986229464\n"
     ]
    }
   ],
   "source": [
    "from time import perf_counter\n",
    "timer1 = perf_counter()\n",
    "str1= \"niche\"\n",
    "str2 = \"chien\"\n",
    "d = []\n",
    "for i in range(0, len(str1)+1, 1):\n",
    "    line = []\n",
    "    for j in range (0, len(str2)+1, 1):\n",
    "        if i == 0 and j == 0:\n",
    "            line.append(0)\n",
    "        elif j == 0:\n",
    "            line.append(i)\n",
    "        elif i == 0:\n",
    "            line.append(j)\n",
    "        else:\n",
    "            line.append(0)\n",
    "    d.append(line)\n",
    "\n",
    "for value in d:\n",
    "    print(value)\n",
    "timer2 = perf_counter()\n",
    "\n",
    "print(timer2 - timer1)"
   ]
  },
  {
   "cell_type": "code",
   "execution_count": null,
   "metadata": {},
   "outputs": [],
   "source": []
  },
  {
   "cell_type": "code",
   "execution_count": null,
   "metadata": {},
   "outputs": [],
   "source": []
  }
 ],
 "metadata": {
  "kernelspec": {
   "display_name": "Python 3",
   "language": "python",
   "name": "python3"
  },
  "language_info": {
   "codemirror_mode": {
    "name": "ipython",
    "version": 3
   },
   "file_extension": ".py",
   "mimetype": "text/x-python",
   "name": "python",
   "nbconvert_exporter": "python",
   "pygments_lexer": "ipython3",
   "version": "3.8.3"
  },
  "latex_envs": {
   "LaTeX_envs_menu_present": true,
   "autoclose": false,
   "autocomplete": true,
   "bibliofile": "biblio.bib",
   "cite_by": "apalike",
   "current_citInitial": 1,
   "eqLabelWithNumbers": true,
   "eqNumInitial": 1,
   "hotkeys": {
    "equation": "Ctrl-E",
    "itemize": "Ctrl-I"
   },
   "labels_anchors": false,
   "latex_user_defs": false,
   "report_style_numbering": false,
   "user_envs_cfg": false
  },
  "toc": {
   "base_numbering": 1,
   "nav_menu": {},
   "number_sections": true,
   "sideBar": true,
   "skip_h1_title": false,
   "title_cell": "Table of Contents",
   "title_sidebar": "Contents",
   "toc_cell": false,
   "toc_position": {},
   "toc_section_display": true,
   "toc_window_display": false
  },
  "varInspector": {
   "cols": {
    "lenName": 16,
    "lenType": 16,
    "lenVar": 40
   },
   "kernels_config": {
    "python": {
     "delete_cmd_postfix": "",
     "delete_cmd_prefix": "del ",
     "library": "var_list.py",
     "varRefreshCmd": "print(var_dic_list())"
    },
    "r": {
     "delete_cmd_postfix": ") ",
     "delete_cmd_prefix": "rm(",
     "library": "var_list.r",
     "varRefreshCmd": "cat(var_dic_list()) "
    }
   },
   "types_to_exclude": [
    "module",
    "function",
    "builtin_function_or_method",
    "instance",
    "_Feature"
   ],
   "window_display": false
  }
 },
 "nbformat": 4,
 "nbformat_minor": 4
}
