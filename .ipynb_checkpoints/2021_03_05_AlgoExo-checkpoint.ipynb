{
 "cells": [
  {
   "cell_type": "markdown",
   "id": "closing-palmer",
   "metadata": {},
   "source": [
    "# Bases"
   ]
  },
  {
   "cell_type": "markdown",
   "id": "raising-slope",
   "metadata": {},
   "source": [
    "## Simple échange"
   ]
  },
  {
   "cell_type": "code",
   "execution_count": 6,
   "id": "smoking-premium",
   "metadata": {},
   "outputs": [
    {
     "name": "stdout",
     "output_type": "stream",
     "text": [
      "2\n",
      "1\n"
     ]
    }
   ],
   "source": [
    "a=1\n",
    "b=2\n",
    "a,b = b,a\n",
    "print(a)\n",
    "print(b)"
   ]
  },
  {
   "cell_type": "markdown",
   "id": "figured-initial",
   "metadata": {},
   "source": [
    "## Le carré"
   ]
  },
  {
   "cell_type": "code",
   "execution_count": 7,
   "id": "acting-constraint",
   "metadata": {},
   "outputs": [
    {
     "name": "stdin",
     "output_type": "stream",
     "text": [
      " 4\n"
     ]
    },
    {
     "data": {
      "text/plain": [
       "16"
      ]
     },
     "execution_count": 7,
     "metadata": {},
     "output_type": "execute_result"
    }
   ],
   "source": [
    "val = int(input())\n",
    "val**2"
   ]
  },
  {
   "cell_type": "markdown",
   "id": "ordinary-crystal",
   "metadata": {},
   "source": [
    "## La condition"
   ]
  },
  {
   "cell_type": "code",
   "execution_count": 11,
   "id": "facial-cyprus",
   "metadata": {},
   "outputs": [
    {
     "name": "stdin",
     "output_type": "stream",
     "text": [
      " 8\n"
     ]
    },
    {
     "name": "stdout",
     "output_type": "stream",
     "text": [
      "8  est positif\n"
     ]
    }
   ],
   "source": [
    "val = int(input())\n",
    "if val > 0 :\n",
    "    print(val, \" est positif\")\n",
    "elif val < 0 :\n",
    "    print(val, \" est négatif\")\n",
    "else :\n",
    "    print(val, \" est nul\")"
   ]
  },
  {
   "cell_type": "markdown",
   "id": "entire-telling",
   "metadata": {},
   "source": [
    "## Le produit"
   ]
  },
  {
   "cell_type": "code",
   "execution_count": null,
   "id": "worst-abuse",
   "metadata": {},
   "outputs": [],
   "source": [
    "a = int(input())"
   ]
  }
 ],
 "metadata": {
  "kernelspec": {
   "display_name": "Python 3",
   "language": "python",
   "name": "python3"
  },
  "language_info": {
   "codemirror_mode": {
    "name": "ipython",
    "version": 3
   },
   "file_extension": ".py",
   "mimetype": "text/x-python",
   "name": "python",
   "nbconvert_exporter": "python",
   "pygments_lexer": "ipython3",
   "version": "3.8.3"
  },
  "toc-autonumbering": true
 },
 "nbformat": 4,
 "nbformat_minor": 5
}
