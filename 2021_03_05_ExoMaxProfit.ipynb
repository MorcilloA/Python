{
 "cells": [
  {
   "cell_type": "markdown",
   "id": "settled-galaxy",
   "metadata": {},
   "source": [
    "# Comment faire le meilleur profit ?"
   ]
  },
  {
   "cell_type": "code",
   "execution_count": 24,
   "id": "sixth-inflation",
   "metadata": {},
   "outputs": [
    {
     "name": "stdout",
     "output_type": "stream",
     "text": [
      "['X', 6, 'X', 45, 55, 85]\n",
      "['X', 'X', 'X', 39, 49, 79]\n",
      "['X', 'X', 'X', 47, 57, 87]\n",
      "['X', 'X', 'X', 'X', 10, 40]\n",
      "['X', 'X', 'X', 'X', 'X', 30]\n",
      "['X', 'X', 'X', 'X', 'X', 'X']\n"
     ]
    }
   ],
   "source": [
    "tab = [5,11,3,50,60,90]\n",
    "k = 2\n",
    "# Output 93\n",
    "\n",
    "# Contient le profit final\n",
    "profit = 0\n",
    "\n",
    "# Table des profits pour chaque transaction possible\n",
    "profits = []\n",
    "indexi = 0\n",
    "for i in tab:\n",
    "    line = []\n",
    "    indexj = 0\n",
    "    for j in tab:\n",
    "        if indexj <= indexi:\n",
    "            line.append(\"X\")\n",
    "        elif j <= i:\n",
    "            line.append(\"X\")\n",
    "        else:\n",
    "            line.append(j - i)   \n",
    "        indexj += 1\n",
    "    profits.append(line)\n",
    "    indexi += 1\n",
    "    \n",
    "# Parcourt selon le nombre de transactions autorisées\n",
    "while k > 0:\n",
    "    for \n",
    "    \n",
    "# Affichage de la matrice des profits\n",
    "for value in profits:\n",
    "    print(value)"
   ]
  },
  {
   "cell_type": "code",
   "execution_count": null,
   "id": "fourth-swimming",
   "metadata": {},
   "outputs": [],
   "source": []
  }
 ],
 "metadata": {
  "kernelspec": {
   "display_name": "Python 3",
   "language": "python",
   "name": "python3"
  },
  "language_info": {
   "codemirror_mode": {
    "name": "ipython",
    "version": 3
   },
   "file_extension": ".py",
   "mimetype": "text/x-python",
   "name": "python",
   "nbconvert_exporter": "python",
   "pygments_lexer": "ipython3",
   "version": "3.8.3"
  },
  "toc-autonumbering": false
 },
 "nbformat": 4,
 "nbformat_minor": 5
}
