{
 "cells": [
  {
   "cell_type": "markdown",
   "id": "answering-thompson",
   "metadata": {},
   "source": [
    "# Comment faire le meilleur profit ?"
   ]
  },
  {
   "cell_type": "code",
   "execution_count": null,
   "id": "global-volleyball",
   "metadata": {},
   "outputs": [],
   "source": [
    "tab = [5,11,3,50,60,90]\n",
    "k = 2\n",
    "for i in tab:\n",
    "    for j in tab:\n",
    "        "
   ]
  }
 ],
 "metadata": {
  "kernelspec": {
   "display_name": "Python 3",
   "language": "python",
   "name": "python3"
  },
  "language_info": {
   "codemirror_mode": {
    "name": "ipython",
    "version": 3
   },
   "file_extension": ".py",
   "mimetype": "text/x-python",
   "name": "python",
   "nbconvert_exporter": "python",
   "pygments_lexer": "ipython3",
   "version": "3.8.3"
  },
  "toc-autonumbering": false
 },
 "nbformat": 4,
 "nbformat_minor": 5
}
