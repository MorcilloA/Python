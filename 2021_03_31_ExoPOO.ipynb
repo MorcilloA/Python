{
 "cells": [
  {
   "cell_type": "markdown",
   "id": "remarkable-macro",
   "metadata": {},
   "source": [
    "#### Le compte bancaire\n",
    "\n",
    "Écrire un programme python qui permet de définir une classe CompteBancaire(), qui permette d’instancier des objets tels que compte1, compte2, etc. Le constructeur de cette classe initialisera deux attributs d’instance nom et solde, avec les valeurs par défaut ’Dupont’ et 1000.\n",
    "\n",
    "Trois autres méthodes seront définies :\n",
    "\n",
    "- depot(somme) permettra d’ajouter une certaine somme au solde ;\n",
    "- retrait(somme) permettra de retirer une certaine somme du solde ;\n",
    "- affiche() permettra d’afficher le nom du titulaire et le solde de son compte.\n",
    "\n",
    "\n",
    "Exemples d’exécution:\n",
    "```\n",
    ">>> compte1 = CompteBancaire(‘Duchmol’, 800)\n",
    ">>> compte1.depot(350)\n",
    ">>> compte1.retrait(200)\n",
    ">>> compte1.affiche()\n",
    "Le solde du compte bancaire de Duchmol est de 950 euros.\n",
    ">>> compte2 = CompteBancaire()\n",
    ">>> compte2.depot(25)\n",
    ">>> compte2.affiche()\n",
    "Le solde du compte bancaire de Dupont est de 1025 euros.\n",
    "\n",
    "```"
   ]
  },
  {
   "cell_type": "code",
   "execution_count": 22,
   "id": "solar-algorithm",
   "metadata": {},
   "outputs": [],
   "source": [
    "class CompteBancaire:\n",
    "    \n",
    "    nom = \"Dupont\"\n",
    "    solde = 1000\n",
    "    \n",
    "    def __init__(self, nom = \"Dupont\", solde = 1000):\n",
    "        self.nom = nom\n",
    "        self.solde = int(solde)\n",
    "    \n",
    "    def depot(self, somme):\n",
    "        self.solde += int(somme)\n",
    "        \n",
    "    def retrait(self, somme):\n",
    "        self.solde -= int(somme)\n",
    "    \n",
    "    def affiche(self):\n",
    "        print(\"Le compte de\", self.nom, \"a un solde de\", self.solde)"
   ]
  },
  {
   "cell_type": "code",
   "execution_count": 27,
   "id": "conceptual-present",
   "metadata": {},
   "outputs": [
    {
     "name": "stdout",
     "output_type": "stream",
     "text": [
      "Le compte de czecfd a un solde de 1200\n",
      "Le compte de czecfd a un solde de 700\n",
      "Le compte de czecfd a un solde de 1700\n"
     ]
    }
   ],
   "source": [
    "compte1 = CompteBancaire(\"czecfd\", 1200)\n",
    "compte1.affiche()\n",
    "compte1.retrait(500)\n",
    "compte1.affiche()\n",
    "compte1.depot(1000)\n",
    "compte1.affiche()"
   ]
  },
  {
   "cell_type": "markdown",
   "id": "approximate-geology",
   "metadata": {},
   "source": [
    "#### La surcharge d'opérateur \n",
    "\n",
    "Définir une classe Point avec un constructeur, un point est définit soit par deux coordonnées x et y, s’il s’agit d’une représentation d’un point au plan ou par trois coordonnées x, y et z, s’il s’agit d’une représentation d’un point en espace.\n",
    "\n",
    "La classe Point doit contenir une méthode ToString qui affiche le point.\n",
    "\n",
    "Exemple d’exécution:\n",
    "```\n",
    ">>>P1=Point(2,3)\n",
    ">>>P1.ToString()\n",
    "P(2.00 , 3.00)\n",
    ">>>P2=Point(1,-5,6)\n",
    ">>>P2.ToString()\n",
    "P(1.00 , -5.00 , 6.00)\n",
    "```"
   ]
  },
  {
   "cell_type": "code",
   "execution_count": 38,
   "id": "quantitative-amsterdam",
   "metadata": {},
   "outputs": [],
   "source": [
    "class Point:\n",
    "    \n",
    "    def __init__(self, x, y, z = None):\n",
    "        self.x = float(x)\n",
    "        self.y = float(y)\n",
    "        self.z = z\n",
    "        \n",
    "    def ToString(self):\n",
    "        if self.z is None:\n",
    "            print(\"P(\", round(self.x, 3), \",\", self.y, \")\")\n",
    "        else:\n",
    "            print(\"P(\", self.x, \",\", self.y, \",\", float(self.z), \")\")"
   ]
  },
  {
   "cell_type": "code",
   "execution_count": 39,
   "id": "auburn-ghost",
   "metadata": {},
   "outputs": [
    {
     "name": "stdout",
     "output_type": "stream",
     "text": [
      "P( 1.0 , 2.0 )\n",
      "P( 1.0 , 2.0 , 3.0 )\n"
     ]
    }
   ],
   "source": [
    "p1 = Point(1.00, 2)\n",
    "p1.ToString()\n",
    "\n",
    "p2 = Point(1,2,3)\n",
    "p2.ToString()"
   ]
  },
  {
   "cell_type": "markdown",
   "id": "informal-option",
   "metadata": {},
   "source": [
    "#### L'héritage simple\n",
    "\n",
    "Définir les classes suivantes:\n",
    "\n",
    "- Une classe DateNaissance avec trois attributs, jour, mois, année et une méthode ToString qui convertit la date de naissance en chaine de caractères\n",
    "- Une classe Personne  avec trois attributs, nom, prénom et date de naissance et une méthode polymorphe Afficher pour afficher les données de chaque personne.\n",
    "- Une classe Employé qui dérive de la classe Personne, avec en plus un attribut Salaire et la redéfinition de la méthode Afficher.\n",
    "- Une classe Chef qui dérive de la classe Employé, avec en plus un attribut Service et la redéfinition de la méthode Afficher.\n",
    "\n",
    "Exemple d’exécution:\n",
    "\n",
    "```\n",
    ">>>P=personne(“Ilyass”,”Math”,DateNaissance(1,7,1982))\n",
    ">>>P.afficher()\n",
    "Nom: Ilyass \n",
    "Prénom: Math\n",
    "Date de naissance: 01 / 07 / 1982\n",
    "\n",
    ">>>E=employe(“Ilyass”,”Math”,DateNaissance(1,7,1985),7865.548)\n",
    ">>>E.afficher()\n",
    "Nom: Ilyass \n",
    "Prénom: Math\n",
    "Date de naissance: 01 / 07 / 1985\n",
    "Salaire: 7865.55\n",
    "\n",
    ">>>Ch=chef(“Ilyass”,”Math”,DateNaissance(1,7,1988),7865.548,”Ressource humaine”)\n",
    ">>>Ch.afficher()\n",
    "Nom: Ilyass \n",
    "Prénom: Math\n",
    "Date de naissance: 01 / 07 / 1988\n",
    "Salaire: 7865.55\n",
    "Service: Ressource humaine\n",
    "```"
   ]
  },
  {
   "cell_type": "code",
   "execution_count": null,
   "id": "liked-princess",
   "metadata": {},
   "outputs": [],
   "source": []
  },
  {
   "cell_type": "markdown",
   "id": "stock-criterion",
   "metadata": {},
   "source": [
    "#### Le polymorphisme\n",
    "\n",
    "Une boîtes aux lettres recueille des courrier qui peuvent être des lettres ou des colis.\n",
    "\n",
    "Une lettre est caractérisée par :\n",
    "\n",
    "son poids (en grammes)\n",
    "le mode d’expédition (express ou normal)\n",
    "son adresse de destination\n",
    "son adresse d’expédition\n",
    "son format (“A3” ou “A4”)\n",
    "Un colis est caractérisé par :\n",
    "\n",
    "son poids (en grammes)\n",
    "le mode d’expédition (express ou normal)\n",
    "son adresse de destination\n",
    "son adresse d’expédition\n",
    "son volume (en litres )\n",
    "Il faut donc définir aussi les deux méthodes:\n",
    "\n",
    "calculTimbre: qui calcule le prix du Timbre\n",
    "ToString qui affiche un courrier\n",
    "Règles pour calculer le prix du Timbre :\n",
    "\n",
    "en mode d’expédition normal :\n",
    "\n",
    "Le montant nécessaire pour affranchir une lettre dépend de son format et de son poids : Formule : montant = tarif de base + 1.0 * poids (kilos), où le tarif de base pour une lettre “A4” est de 2.50, et 3.50 pour une lettre “A3”\n",
    "\n",
    "Le montant nécessaire pour affranchir un colis dépend de son poids et de son volume : Formule : montant = 0.25 volume (litres) + poids (kilos) 1.0\n",
    "\n",
    "en mode d’expédition express : les montants précédents sont doublés, quelque soit le type de courrier\n",
    "\n",
    "##### Exemple d’exécution :\n",
    "```\n",
    ">>>L1=Lettre(“Lille”,”Paris”,80,”normal”,”A4″)\n",
    ">>>L1.ToString()\n",
    "Lettre:\n",
    "Adresse destination: Lille \n",
    "Adress expedition: Paris\n",
    "Poids: 80.00 grammes\n",
    "Mode: normal \n",
    "Format:A4\n",
    "Prix du timbre:0.20\n",
    ">>>C1=Colis(“Marrakeche”,”Barcelone “,3500,”expresse”,2.25)\n",
    ">>>C1.ToString()\n",
    "Collis:\n",
    "Adresse destination: Marrakeche \n",
    "Adress expedition: Barcelone \n",
    "Poids: 3500.00 grammes\n",
    "Mode: expresse \n",
    "Volume: 2.25 litres\n",
    "Prix du timbre:3937.50\n",
    "```"
   ]
  },
  {
   "cell_type": "code",
   "execution_count": null,
   "id": "harmful-project",
   "metadata": {},
   "outputs": [],
   "source": []
  }
 ],
 "metadata": {
  "kernelspec": {
   "display_name": "Python 3",
   "language": "python",
   "name": "python3"
  },
  "language_info": {
   "codemirror_mode": {
    "name": "ipython",
    "version": 3
   },
   "file_extension": ".py",
   "mimetype": "text/x-python",
   "name": "python",
   "nbconvert_exporter": "python",
   "pygments_lexer": "ipython3",
   "version": "3.8.3"
  }
 },
 "nbformat": 4,
 "nbformat_minor": 5
}
