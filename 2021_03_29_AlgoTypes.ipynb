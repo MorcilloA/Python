{
 "cells": [
  {
   "cell_type": "markdown",
   "metadata": {},
   "source": [
    "# Target somme \n",
    "\n",
    "Écrivez une fonction qui prend dans un tableau non vide d'entiers distincts et un entier représentant une somme cible. Si deux nombres du tableau d'entrée correspondent à la somme cible, la fonction doit les renvoyer dans un tableau, dans n'importe quel ordre. Si deux nombres ne correspondent pas à la somme cible, la fonction doit renvoyer un tableau vide.\n",
    "\n",
    "Notez que la somme cible doit être obtenue en additionnant deux entiers différents dans le tableau; vous ne pouvez pas ajouter un seul entier à lui-même pour obtenir la somme cible.\n",
    "\n",
    "Input exemple : \n",
    "\n",
    "```python\n",
    "array = [3, 5, -4, 8, 11, 1, -1, 6] \n",
    "targetSum = 10 \n",
    "```\n",
    "\n",
    "Output \n",
    "```python\n",
    "[-1, 11] # les nombres peuvent être dans l'ordre inverse\n",
    "```\n"
   ]
  },
  {
   "cell_type": "code",
   "execution_count": 2,
   "metadata": {},
   "outputs": [
    {
     "name": "stdout",
     "output_type": "stream",
     "text": [
      "[2, -3]\n"
     ]
    }
   ],
   "source": [
    "def isReachable(array, targetSum):\n",
    "    result = []\n",
    "    for i in array:\n",
    "        for j in array:\n",
    "            if i == j : continue\n",
    "            if i + j == targetSum:\n",
    "                result = [i,j]\n",
    "                break\n",
    "    if result == []:\n",
    "        return \"La somme visée n'est pas atteignable avec les éléments du tableau\"\n",
    "    else :\n",
    "        return result\n",
    "    \n",
    "print(isReachable([-3,2,3,4,5,6,7,8,9], -1))"
   ]
  },
  {
   "cell_type": "markdown",
   "metadata": {},
   "source": [
    "Complexité = O(n^2) car on parcourt n fois les n éléments du tableaux donc n*n donc n^2."
   ]
  },
  {
   "cell_type": "markdown",
   "metadata": {},
   "source": [
    "# La distance de Levenshtein\n",
    "\n",
    "Ecrivez une fonction qui prend en deux chaînes et retourne le nombre minimum d'opérations d'édition qui doivent être effectuées sur la première chaîne pour obtenir la deuxième chaîne.\n",
    "\n",
    "Il existe trois opérations d'édition: insertion d'un caractère, suppression d'un caractère et substitution d'un caractère par un autre.\n",
    "\n",
    "Elle est tres utilisé en bio informatique notamment pour l'analyse ADN. \n",
    "\n",
    "Input exemple : \n",
    "\n",
    "```python\n",
    "str1 = \"abc\" \n",
    "str2 = \"yabd\"\n",
    "```\n",
    "\n",
    "Output \n",
    "\n",
    "```python\n",
    "2 #insert \"y\"; substitute \"c\" for \"d\"\n",
    "```"
   ]
  },
  {
   "cell_type": "code",
   "execution_count": null,
   "metadata": {},
   "outputs": [],
   "source": []
  }
 ],
 "metadata": {
  "kernelspec": {
   "display_name": "Python 3",
   "language": "python",
   "name": "python3"
  },
  "language_info": {
   "codemirror_mode": {
    "name": "ipython",
    "version": 3
   },
   "file_extension": ".py",
   "mimetype": "text/x-python",
   "name": "python",
   "nbconvert_exporter": "python",
   "pygments_lexer": "ipython3",
   "version": "3.8.3"
  },
  "latex_envs": {
   "LaTeX_envs_menu_present": true,
   "autoclose": false,
   "autocomplete": true,
   "bibliofile": "biblio.bib",
   "cite_by": "apalike",
   "current_citInitial": 1,
   "eqLabelWithNumbers": true,
   "eqNumInitial": 1,
   "hotkeys": {
    "equation": "Ctrl-E",
    "itemize": "Ctrl-I"
   },
   "labels_anchors": false,
   "latex_user_defs": false,
   "report_style_numbering": false,
   "user_envs_cfg": false
  },
  "toc": {
   "base_numbering": 1,
   "nav_menu": {},
   "number_sections": true,
   "sideBar": true,
   "skip_h1_title": false,
   "title_cell": "Table of Contents",
   "title_sidebar": "Contents",
   "toc_cell": false,
   "toc_position": {},
   "toc_section_display": true,
   "toc_window_display": false
  },
  "varInspector": {
   "cols": {
    "lenName": 16,
    "lenType": 16,
    "lenVar": 40
   },
   "kernels_config": {
    "python": {
     "delete_cmd_postfix": "",
     "delete_cmd_prefix": "del ",
     "library": "var_list.py",
     "varRefreshCmd": "print(var_dic_list())"
    },
    "r": {
     "delete_cmd_postfix": ") ",
     "delete_cmd_prefix": "rm(",
     "library": "var_list.r",
     "varRefreshCmd": "cat(var_dic_list()) "
    }
   },
   "types_to_exclude": [
    "module",
    "function",
    "builtin_function_or_method",
    "instance",
    "_Feature"
   ],
   "window_display": false
  }
 },
 "nbformat": 4,
 "nbformat_minor": 4
}
