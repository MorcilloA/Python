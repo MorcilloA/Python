{
 "cells": [
  {
   "cell_type": "markdown",
   "id": "decent-reason",
   "metadata": {},
   "source": [
    "# Bases"
   ]
  },
  {
   "cell_type": "markdown",
   "id": "fundamental-negotiation",
   "metadata": {},
   "source": [
    "## Simple échange"
   ]
  },
  {
   "cell_type": "code",
   "execution_count": 6,
   "id": "seventh-silly",
   "metadata": {},
   "outputs": [
    {
     "name": "stdout",
     "output_type": "stream",
     "text": [
      "2\n",
      "1\n"
     ]
    }
   ],
   "source": [
    "a=1\n",
    "b=2\n",
    "a,b = b,a\n",
    "print(a)\n",
    "print(b)"
   ]
  },
  {
   "cell_type": "markdown",
   "id": "progressive-dominican",
   "metadata": {},
   "source": [
    "## Le carré"
   ]
  },
  {
   "cell_type": "code",
   "execution_count": 7,
   "id": "accessory-surname",
   "metadata": {},
   "outputs": [
    {
     "name": "stdin",
     "output_type": "stream",
     "text": [
      " 4\n"
     ]
    },
    {
     "data": {
      "text/plain": [
       "16"
      ]
     },
     "execution_count": 7,
     "metadata": {},
     "output_type": "execute_result"
    }
   ],
   "source": [
    "val = int(input())\n",
    "val**2"
   ]
  },
  {
   "cell_type": "markdown",
   "id": "fewer-society",
   "metadata": {},
   "source": [
    "## La condition"
   ]
  },
  {
   "cell_type": "code",
   "execution_count": 11,
   "id": "legendary-daisy",
   "metadata": {},
   "outputs": [
    {
     "name": "stdin",
     "output_type": "stream",
     "text": [
      " 8\n"
     ]
    },
    {
     "name": "stdout",
     "output_type": "stream",
     "text": [
      "8  est positif\n"
     ]
    }
   ],
   "source": [
    "val = int(input())\n",
    "if val > 0 :\n",
    "    print(val, \" est positif\")\n",
    "elif val < 0 :\n",
    "    print(val, \" est négatif\")\n",
    "else :\n",
    "    print(val, \" est nul\")"
   ]
  },
  {
   "cell_type": "markdown",
   "id": "auburn-korean",
   "metadata": {},
   "source": [
    "## Le produit"
   ]
  },
  {
   "cell_type": "code",
   "execution_count": null,
   "id": "abandoned-ultimate",
   "metadata": {},
   "outputs": [],
   "source": [
    "a = int(input())\n",
    "b = int(input())\n",
    "print(\"Le produit est\", \"négatif\" if a < 0 or b < 0 else \"positif\")"
   ]
  },
  {
   "cell_type": "markdown",
   "id": "generous-canberra",
   "metadata": {},
   "source": [
    "## Calcul"
   ]
  },
  {
   "cell_type": "code",
   "execution_count": 21,
   "id": "democratic-gravity",
   "metadata": {},
   "outputs": [
    {
     "name": "stdin",
     "output_type": "stream",
     "text": [
      " 5\n"
     ]
    },
    {
     "name": "stdout",
     "output_type": "stream",
     "text": [
      "6\n",
      "7\n",
      "8\n",
      "9\n",
      "10\n",
      "11\n",
      "12\n",
      "13\n",
      "14\n",
      "15\n"
     ]
    }
   ],
   "source": [
    "val = int(input())\n",
    "for i in range (val+1, val+11):\n",
    "    print(i)"
   ]
  },
  {
   "cell_type": "markdown",
   "id": "protecting-strike",
   "metadata": {},
   "source": [
    "## Additivité"
   ]
  },
  {
   "cell_type": "code",
   "execution_count": 25,
   "id": "lucky-factory",
   "metadata": {},
   "outputs": [
    {
     "name": "stdin",
     "output_type": "stream",
     "text": [
      " 5\n"
     ]
    },
    {
     "data": {
      "text/plain": [
       "15"
      ]
     },
     "execution_count": 25,
     "metadata": {},
     "output_type": "execute_result"
    }
   ],
   "source": [
    "tab = [i+1 for i in range(int(input()))]\n",
    "sum(tab)"
   ]
  },
  {
   "cell_type": "markdown",
   "id": "inappropriate-ultimate",
   "metadata": {},
   "source": [
    "# Les tableaux"
   ]
  },
  {
   "cell_type": "markdown",
   "id": "efficient-color",
   "metadata": {},
   "source": [
    "## La somme"
   ]
  },
  {
   "cell_type": "code",
   "execution_count": 28,
   "id": "prompt-university",
   "metadata": {},
   "outputs": [
    {
     "data": {
      "text/plain": [
       "45"
      ]
     },
     "execution_count": 28,
     "metadata": {},
     "output_type": "execute_result"
    }
   ],
   "source": [
    "tab = [i for i in range(1,10)]\n",
    "# tab = [1,5,6,65,854,5]\n",
    "sum(tab)"
   ]
  },
  {
   "cell_type": "markdown",
   "id": "increased-depression",
   "metadata": {},
   "source": [
    "## La somme : retour"
   ]
  },
  {
   "cell_type": "code",
   "execution_count": 31,
   "id": "productive-precipitation",
   "metadata": {},
   "outputs": [
    {
     "data": {
      "text/plain": [
       "[2, 4, 6, 8, 10, 12, 14, 16, 18]"
      ]
     },
     "execution_count": 31,
     "metadata": {},
     "output_type": "execute_result"
    }
   ],
   "source": [
    "tab1 = [i for i in range(1,10)]\n",
    "tab2 = [i for i in range(1,10)]\n",
    "tabTotal = [tab1[i] + tab2[i] for i in range(len(tab1))]\n",
    "tabTotal"
   ]
  },
  {
   "cell_type": "markdown",
   "id": "labeled-eagle",
   "metadata": {},
   "source": [
    "## FacProduct"
   ]
  },
  {
   "cell_type": "code",
   "execution_count": 32,
   "id": "placed-lightweight",
   "metadata": {},
   "outputs": [
    {
     "data": {
      "text/plain": [
       "285"
      ]
     },
     "execution_count": 32,
     "metadata": {},
     "output_type": "execute_result"
    }
   ],
   "source": [
    "tab1 = [i for i in range(1,10)]\n",
    "tab2 = [i for i in range(1,10)]\n",
    "tabTotal = [tab1[i] *tab2[i] for i in range(len(tab1))]\n",
    "sum(tabTotal)"
   ]
  },
  {
   "cell_type": "markdown",
   "id": "boring-democrat",
   "metadata": {},
   "source": [
    "## Le plus grand"
   ]
  },
  {
   "cell_type": "code",
   "execution_count": 36,
   "id": "static-hungary",
   "metadata": {},
   "outputs": [
    {
     "name": "stdin",
     "output_type": "stream",
     "text": [
      " -5\n",
      " -8\n",
      " -4\n",
      " -15\n",
      " -8181\n"
     ]
    },
    {
     "data": {
      "text/plain": [
       "-4"
      ]
     },
     "execution_count": 36,
     "metadata": {},
     "output_type": "execute_result"
    }
   ],
   "source": [
    "nbVal = 5\n",
    "tab = [int(input()) for i in range(nbVal)]\n",
    "max(tab)"
   ]
  },
  {
   "cell_type": "code",
   "execution_count": null,
   "id": "breeding-private",
   "metadata": {},
   "outputs": [],
   "source": []
  }
 ],
 "metadata": {
  "kernelspec": {
   "display_name": "Python 3",
   "language": "python",
   "name": "python3"
  },
  "language_info": {
   "codemirror_mode": {
    "name": "ipython",
    "version": 3
   },
   "file_extension": ".py",
   "mimetype": "text/x-python",
   "name": "python",
   "nbconvert_exporter": "python",
   "pygments_lexer": "ipython3",
   "version": "3.8.3"
  },
  "toc-autonumbering": true
 },
 "nbformat": 4,
 "nbformat_minor": 5
}
